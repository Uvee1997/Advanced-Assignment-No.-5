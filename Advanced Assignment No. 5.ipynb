{
 "cells": [
  {
   "cell_type": "markdown",
   "id": "4498c731",
   "metadata": {},
   "source": [
    "1) What is the meaning of multiple inheritance?\n",
    "\n",
    ":- From class A & class B we are doing inheritance in class C. Suppose from Mother class(class A) & Father class(class B) \n",
    "    we are doing inheritance in child class(class C), this method is called as multiple inheritance. \n",
    "    "
   ]
  },
  {
   "cell_type": "markdown",
   "id": "3f44339f",
   "metadata": {},
   "source": [
    "2) What is the concept of delegation?\n",
    "\n",
    ":- Shifting authority and responsibility for a particular functions,task or desicion from one person to another.\n",
    "   This is commonly followed by leaders & managers. Delegation can't be done by yourself. Delegation can be done properly      by proper planning. "
   ]
  },
  {
   "cell_type": "markdown",
   "id": "db585721",
   "metadata": {},
   "source": [
    "3) What is the concept of composition?\n",
    "\n",
    ":- It is concept that models has relationship. It enables complex type by combining object of other type."
   ]
  },
  {
   "cell_type": "markdown",
   "id": "cd594ca6",
   "metadata": {},
   "source": [
    "4) What are bound methods and how do we use them?\n",
    "\n",
    ":- It depends on Inheritance of the class as the first argument. It passes instances as the first argument which is used to    access variables & funtions. "
   ]
  },
  {
   "cell_type": "markdown",
   "id": "36648ab6",
   "metadata": {},
   "source": [
    "5) What is the purpose of pseudoprivate attributes?\n",
    "\n",
    ":- It reduces the chance of internal methods being replaced by names defined lower. It also avoid new method name which is \n",
    "    accidentily hides defination."
   ]
  }
 ],
 "metadata": {
  "kernelspec": {
   "display_name": "Python 3 (ipykernel)",
   "language": "python",
   "name": "python3"
  },
  "language_info": {
   "codemirror_mode": {
    "name": "ipython",
    "version": 3
   },
   "file_extension": ".py",
   "mimetype": "text/x-python",
   "name": "python",
   "nbconvert_exporter": "python",
   "pygments_lexer": "ipython3",
   "version": "3.9.7"
  }
 },
 "nbformat": 4,
 "nbformat_minor": 5
}
